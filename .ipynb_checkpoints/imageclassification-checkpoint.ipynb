{
 "cells": [
  {
   "cell_type": "code",
   "execution_count": 1,
   "id": "1f10d606",
   "metadata": {},
   "outputs": [
    {
     "name": "stderr",
     "output_type": "stream",
     "text": [
      "2023-03-29 15:59:07.656995: I tensorflow/core/platform/cpu_feature_guard.cc:193] This TensorFlow binary is optimized with oneAPI Deep Neural Network Library (oneDNN) to use the following CPU instructions in performance-critical operations:  SSE4.1 SSE4.2 AVX AVX2 FMA\n",
      "To enable them in other operations, rebuild TensorFlow with the appropriate compiler flags.\n"
     ]
    },
    {
     "ename": "TypeError",
     "evalue": "argument 1 must be sequence of length 2, not 1",
     "output_type": "error",
     "traceback": [
      "\u001b[0;31m---------------------------------------------------------------------------\u001b[0m",
      "\u001b[0;31mTypeError\u001b[0m                                 Traceback (most recent call last)",
      "Cell \u001b[0;32mIn[1], line 13\u001b[0m\n\u001b[1;32m     10\u001b[0m img \u001b[38;5;241m=\u001b[39m load_img(img_path)\n\u001b[1;32m     12\u001b[0m \u001b[38;5;66;03m#resize the image to 299x299 square shape\u001b[39;00m\n\u001b[0;32m---> 13\u001b[0m img \u001b[38;5;241m=\u001b[39m \u001b[43mimg\u001b[49m\u001b[38;5;241;43m.\u001b[39;49m\u001b[43mresize\u001b[49m\u001b[43m(\u001b[49m\u001b[43m(\u001b[49m\u001b[38;5;241;43m299\u001b[39;49m\u001b[43m,\u001b[49m\u001b[43m)\u001b[49m\u001b[43m)\u001b[49m\n\u001b[1;32m     14\u001b[0m \u001b[38;5;66;03m#convert the image to array\u001b[39;00m\n\u001b[1;32m     15\u001b[0m img_array \u001b[38;5;241m=\u001b[39m img_to_array(img)\n",
      "File \u001b[0;32m~/anaconda3/lib/python3.10/site-packages/PIL/Image.py:2192\u001b[0m, in \u001b[0;36mImage.resize\u001b[0;34m(self, size, resample, box, reducing_gap)\u001b[0m\n\u001b[1;32m   2184\u001b[0m             \u001b[38;5;28mself\u001b[39m \u001b[38;5;241m=\u001b[39m Image\u001b[38;5;241m.\u001b[39mreduce(\u001b[38;5;28mself\u001b[39m, factor, box\u001b[38;5;241m=\u001b[39mreduce_box)\n\u001b[1;32m   2185\u001b[0m         box \u001b[38;5;241m=\u001b[39m (\n\u001b[1;32m   2186\u001b[0m             (box[\u001b[38;5;241m0\u001b[39m] \u001b[38;5;241m-\u001b[39m reduce_box[\u001b[38;5;241m0\u001b[39m]) \u001b[38;5;241m/\u001b[39m factor_x,\n\u001b[1;32m   2187\u001b[0m             (box[\u001b[38;5;241m1\u001b[39m] \u001b[38;5;241m-\u001b[39m reduce_box[\u001b[38;5;241m1\u001b[39m]) \u001b[38;5;241m/\u001b[39m factor_y,\n\u001b[1;32m   2188\u001b[0m             (box[\u001b[38;5;241m2\u001b[39m] \u001b[38;5;241m-\u001b[39m reduce_box[\u001b[38;5;241m0\u001b[39m]) \u001b[38;5;241m/\u001b[39m factor_x,\n\u001b[1;32m   2189\u001b[0m             (box[\u001b[38;5;241m3\u001b[39m] \u001b[38;5;241m-\u001b[39m reduce_box[\u001b[38;5;241m1\u001b[39m]) \u001b[38;5;241m/\u001b[39m factor_y,\n\u001b[1;32m   2190\u001b[0m         )\n\u001b[0;32m-> 2192\u001b[0m \u001b[38;5;28;01mreturn\u001b[39;00m \u001b[38;5;28mself\u001b[39m\u001b[38;5;241m.\u001b[39m_new(\u001b[38;5;28;43mself\u001b[39;49m\u001b[38;5;241;43m.\u001b[39;49m\u001b[43mim\u001b[49m\u001b[38;5;241;43m.\u001b[39;49m\u001b[43mresize\u001b[49m\u001b[43m(\u001b[49m\u001b[43msize\u001b[49m\u001b[43m,\u001b[49m\u001b[43m \u001b[49m\u001b[43mresample\u001b[49m\u001b[43m,\u001b[49m\u001b[43m \u001b[49m\u001b[43mbox\u001b[49m\u001b[43m)\u001b[49m)\n",
      "\u001b[0;31mTypeError\u001b[0m: argument 1 must be sequence of length 2, not 1"
     ]
    }
   ],
   "source": [
    "from keras.applications import InceptionV3\n",
    "from keras.applications import imagenet_utils\n",
    "from tensorflow.keras.utils import img_to_array, load_img\n",
    "from keras.applications.inception_v3 import preprocess_input\n",
    "import numpy as np\n",
    "import cv2\n",
    "\n",
    "#loading the image to predict\n",
    "img_path = 'Downloads/01454d1c-8af3-4946-818a-1a4b4dd74e8b.jpg'\n",
    "img = load_img(img_path)\n",
    "\n",
    "#resize the image to 299x299 square shape\n",
    "img = img.resize((299,299))\n",
    "#convert the image to array\n",
    "img_array = img_to_array(img)\n",
    "\n",
    "#convert the image into a 4 dimensional Tensor\n",
    "#convert from (height, width, channels), (batchsize, height, width, channels)\n",
    "img_array = np.expand_dims(img_array, axis=0)\n",
    "\n",
    "#preprocess the input image array\n",
    "img_array = preprocess_input(img_array)\n",
    "\n",
    "#Load the model from internet / computer\n",
    "#approximately 96 MB\n",
    "pretrained_model = InceptionV3(weights=\"imagenet\",include_top=True)\n",
    "\n",
    "#predict using predict() method\n",
    "prediction = pretrained_model.predict(img_array)\n",
    "#decode the prediction\n",
    "actual_prediction = imagenet_utils.decode_predictions(prediction,top=5)\n",
    "\n",
    "print(\"predicted object is:\")\n",
    "print(actual_prediction[0][0][1])\n",
    "print(\"with accuracy\")\n",
    "print(actual_prediction)\n",
    "\n",
    "#display image and the prediction text over it\n",
    "disp_img = cv2.imread(img_path)\n",
    "#display prediction text over the image\n",
    "cv2.putText(disp_img, actual_prediction[0][0][1], (20,20), cv2.FONT_HERSHEY_TRIPLEX , 0.8, (0,0,0))\n",
    "\n",
    "#show the image\n",
    "cv2.imshow(\"Prediction\",disp_img)\n",
    "cv2.waitKey(0)"
   ]
  },
  {
   "cell_type": "code",
   "execution_count": null,
   "id": "c7f6f3fd",
   "metadata": {},
   "outputs": [],
   "source": []
  },
  {
   "cell_type": "code",
   "execution_count": null,
   "id": "4223d82e",
   "metadata": {},
   "outputs": [],
   "source": []
  }
 ],
 "metadata": {
  "kernelspec": {
   "display_name": "Python 3 (ipykernel)",
   "language": "python",
   "name": "python3"
  },
  "language_info": {
   "codemirror_mode": {
    "name": "ipython",
    "version": 3
   },
   "file_extension": ".py",
   "mimetype": "text/x-python",
   "name": "python",
   "nbconvert_exporter": "python",
   "pygments_lexer": "ipython3",
   "version": "3.10.9"
  }
 },
 "nbformat": 4,
 "nbformat_minor": 5
}
