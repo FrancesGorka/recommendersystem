{
 "cells": [
  {
   "cell_type": "code",
   "execution_count": null,
   "id": "3fd44fa7",
   "metadata": {},
   "outputs": [
    {
     "name": "stderr",
     "output_type": "stream",
     "text": [
      "2023-03-29 16:03:46.592155: I tensorflow/core/platform/cpu_feature_guard.cc:193] This TensorFlow binary is optimized with oneAPI Deep Neural Network Library (oneDNN) to use the following CPU instructions in performance-critical operations:  SSE4.1 SSE4.2 AVX AVX2 FMA\n",
      "To enable them in other operations, rebuild TensorFlow with the appropriate compiler flags.\n",
      "2023-03-29 16:03:48.599173: I tensorflow/core/platform/cpu_feature_guard.cc:193] This TensorFlow binary is optimized with oneAPI Deep Neural Network Library (oneDNN) to use the following CPU instructions in performance-critical operations:  SSE4.1 SSE4.2 AVX AVX2 FMA\n",
      "To enable them in other operations, rebuild TensorFlow with the appropriate compiler flags.\n",
      "2023-03-29 16:03:48.600113: I tensorflow/core/common_runtime/process_util.cc:146] Creating new thread pool with default inter op setting: 2. Tune using inter_op_parallelism_threads for best performance.\n"
     ]
    },
    {
     "name": "stdout",
     "output_type": "stream",
     "text": [
      "1/1 [==============================] - 1s 1s/step\n",
      "predicted object is:\n",
      "sorrel\n",
      "with accuracy\n",
      "[[('n02389026', 'sorrel', 0.22207028), ('n06596364', 'comic_book', 0.13501704), ('n07248320', 'book_jacket', 0.06430975), ('n02966193', 'carousel', 0.017045641), ('n04019541', 'puck', 0.016036639)]]\n"
     ]
    },
    {
     "name": "stderr",
     "output_type": "stream",
     "text": [
      "libGL error: MESA-LOADER: failed to open iris: /usr/lib/dri/iris_dri.so: cannot open shared object file: No such file or directory (search paths /usr/lib/x86_64-linux-gnu/dri:\\$${ORIGIN}/dri:/usr/lib/dri, suffix _dri)\n",
      "libGL error: failed to load driver: iris\n",
      "libGL error: MESA-LOADER: failed to open iris: /usr/lib/dri/iris_dri.so: cannot open shared object file: No such file or directory (search paths /usr/lib/x86_64-linux-gnu/dri:\\$${ORIGIN}/dri:/usr/lib/dri, suffix _dri)\n",
      "libGL error: failed to load driver: iris\n",
      "libGL error: MESA-LOADER: failed to open swrast: /usr/lib/dri/swrast_dri.so: cannot open shared object file: No such file or directory (search paths /usr/lib/x86_64-linux-gnu/dri:\\$${ORIGIN}/dri:/usr/lib/dri, suffix _dri)\n",
      "libGL error: failed to load driver: swrast\n"
     ]
    }
   ],
   "source": [
    "from keras.applications import InceptionV3\n",
    "from keras.applications import imagenet_utils\n",
    "from tensorflow.keras.utils import img_to_array, load_img\n",
    "from keras.applications.inception_v3 import preprocess_input\n",
    "import numpy as np\n",
    "import cv2\n",
    "\n",
    "#loading the image to predict\n",
    "img_path = 'Downloads/00f7f6d9-8776-46e1-928b-a6f4f7acedf5.jpg'\n",
    "img = load_img(img_path)\n",
    "\n",
    "#resize the image to 299x299 square shape\n",
    "img = img.resize((299,299))\n",
    "#convert the image to array\n",
    "img_array = img_to_array(img)\n",
    "\n",
    "#convert the image into a 4 dimensional Tensor\n",
    "#convert from (height, width, channels), (batchsize, height, width, channels)\n",
    "img_array = np.expand_dims(img_array, axis=0)\n",
    "\n",
    "#preprocess the input image array\n",
    "img_array = preprocess_input(img_array)\n",
    "\n",
    "#Load the model from internet / computer\n",
    "#approximately 96 MB\n",
    "pretrained_model = InceptionV3(weights=\"imagenet\",include_top=True)\n",
    "\n",
    "#predict using predict() method\n",
    "prediction = pretrained_model.predict(img_array)\n",
    "#decode the prediction\n",
    "actual_prediction = imagenet_utils.decode_predictions(prediction,top=5)\n",
    "\n",
    "print(\"predicted object is:\")\n",
    "print(actual_prediction[0][0][1])\n",
    "print(\"with accuracy\")\n",
    "print(actual_prediction)\n",
    "\n",
    "#display image and the prediction text over it\n",
    "disp_img = cv2.imread(img_path)\n",
    "#display prediction text over the image\n",
    "cv2.putText(disp_img, actual_prediction[0][0][1], (20,20), cv2.FONT_HERSHEY_TRIPLEX , 0.8, (0,0,0))\n",
    "\n",
    "#show the image\n",
    "cv2.imshow(\"Prediction\",disp_img)\n",
    "cv2.waitKey(0)"
   ]
  },
  {
   "cell_type": "code",
   "execution_count": null,
   "id": "b928e81e",
   "metadata": {},
   "outputs": [],
   "source": []
  },
  {
   "cell_type": "code",
   "execution_count": null,
   "id": "68527251",
   "metadata": {},
   "outputs": [],
   "source": []
  }
 ],
 "metadata": {
  "kernelspec": {
   "display_name": "Python 3 (ipykernel)",
   "language": "python",
   "name": "python3"
  },
  "language_info": {
   "codemirror_mode": {
    "name": "ipython",
    "version": 3
   },
   "file_extension": ".py",
   "mimetype": "text/x-python",
   "name": "python",
   "nbconvert_exporter": "python",
   "pygments_lexer": "ipython3",
   "version": "3.10.9"
  }
 },
 "nbformat": 4,
 "nbformat_minor": 5
}
