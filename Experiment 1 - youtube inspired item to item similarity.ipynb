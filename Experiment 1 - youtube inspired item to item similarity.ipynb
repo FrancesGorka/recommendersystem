{
 "cells": [
  {
   "cell_type": "code",
   "execution_count": 1,
   "id": "06407d9d",
   "metadata": {},
   "outputs": [],
   "source": [
    "import psycopg2\n",
    "import numpy as np\n",
    "import datetime"
   ]
  },
  {
   "cell_type": "code",
   "execution_count": 2,
   "id": "80ad8bb9",
   "metadata": {},
   "outputs": [],
   "source": [
    "# This query creates a table of users and items, for a specified 24 hour period\n",
    "# The query only includes 'liked' content i.e. content which the user spent longer than usual on\n",
    "\n",
    "def query_database():\n",
    "        # Connect to the database\n",
    "        conn = psycopg2.connect(\n",
    "           host=\"ec2-54-159-10-112.compute-1.amazonaws.com\",\n",
    "           port=5432,\n",
    "           database=\"backprop-bunch\",\n",
    "           user=\"root\",\n",
    "           password=\"backprop\")\n",
    "\n",
    "        cur = conn.cursor()\n",
    "\n",
    "        query = \"\"\"SELECT r.user_id, r.item_key,recieved_at\n",
    "        FROM recommendations r\n",
    "        JOIN (SELECT user_id, AVG(EXTRACT(SECOND FROM engagement_duration)) AS avg_duration\n",
    "        FROM recommendations\n",
    "        GROUP BY user_id) a ON r.user_id = a.user_id\n",
    "        WHERE EXTRACT(SECOND FROM r.engagement_duration) > a.avg_duration AND sent_at >= '2023-03-29 00:00:00.000000' AND sent_at < '2023-03-30 00:00:00.000000' \n",
    "\t\tORDER BY r.user_id,recieved_at\n",
    "        LIMIT 500;\n",
    "        \"\"\"     \n",
    "\n",
    "        cur.execute(query)\n",
    "        results = cur.fetchall()\n",
    "\n",
    "        cur.close()\n",
    "        conn.close()\n",
    "\n",
    "        return results"
   ]
  },
  {
   "cell_type": "code",
   "execution_count": null,
   "id": "26b5e07e",
   "metadata": {},
   "outputs": [],
   "source": [
    "results = np.array(query_database())  "
   ]
  },
  {
   "cell_type": "code",
   "execution_count": 3,
   "id": "eff9cef4",
   "metadata": {},
   "outputs": [],
   "source": [
    "def transitive_closure(tuples):\n",
    "    closure = set(tuples)\n",
    "    while True:\n",
    "        new_tuples = set((x, z) for x, y1 in closure for y2, z in closure if y1 == y2)\n",
    "        closure_until_now = closure | new_tuples\n",
    "        if closure_until_now == closure:\n",
    "            break\n",
    "        closure = closure_until_now\n",
    "    return closure"
   ]
  },
  {
   "cell_type": "code",
   "execution_count": 43,
   "id": "0268e38c",
   "metadata": {},
   "outputs": [],
   "source": [
    "def build_item_to_item_similarity(results):\n",
    "    \n",
    "    n_it = len(np. unique(results[:,1]))\n",
    "    item_to_item = np.zeros((n_it,n_it))\n",
    "    unique_items = np.unique(results[:,1])\n",
    "    unique_users = np.unique(results[:,0])\n",
    "    \n",
    "    enum = enumerate(unique_items)\n",
    "    dict_item =dict((i,j) for j,i in enum)\n",
    "    master_tuples = []\n",
    "    \n",
    "    for j in unique_users:\n",
    "        tuples = []\n",
    "        for i in range(np.shape(results)[0]-1):\n",
    "            if(results[i,0] == j and results[i+1,0] == j):\n",
    "                tuples.append((results[i,1],results[i+1,1]))\n",
    "        # we know user j went to item y from item x, so we create a tuple (x,y) and add it to an empty list\n",
    "        # If a user goes from to b after a (a,b) then to c after b (b,c) then we know the user went to c after a (a,c)\n",
    "        # So we need to ensure transitive closure in our list of tuples for user j \n",
    "        for (x,y) in transitive_closure(tuples):\n",
    "            if((x,y) not in tuples):\n",
    "                tuples.append((x,y))\n",
    "        # now to add to our master set of tuples for building the matrix\n",
    "        for (x,y) in tuples:\n",
    "            master_tuples.append((x,y))\n",
    "    # now we've added all tuples for all users, we construct the matrix\n",
    "    for (i,j) in master_tuples:\n",
    "        item_to_item[dict_item[i],dict_item[j]]+=1       \n",
    "    \n",
    "    recommendations = ['a' for i in range(len(unique_items))]\n",
    "    rec_int = np.argmax(item_to_item, axis=1) \n",
    "\n",
    "    for i in range(len(rec_int)):\n",
    "        k = rec_int[i]\n",
    "        recommendations[i] = unique_items[k]\n",
    "\n",
    "    rec_dict = dict(zip(unique_items, recommendations))\n",
    "    \n",
    "    return(item_to_item,rec_dict)"
   ]
  },
  {
   "cell_type": "code",
   "execution_count": 46,
   "id": "a5e8953f",
   "metadata": {},
   "outputs": [],
   "source": [
    "test = np.array([[1, 'c', datetime.datetime(2023, 3, 31, 9, 30)],\n",
    "                 [1, 'd', datetime.datetime(2023, 3, 31, 9, 40)],\n",
    "                 [1, 'b', datetime.datetime(2023, 3, 31, 9, 50)],\n",
    "                 [2, 'a', datetime.datetime(2023, 3, 31, 9, 20)],\n",
    "                 [2, 'b', datetime.datetime(2023, 3, 31, 9, 25)],\n",
    "                 [2, 'd', datetime.datetime(2023, 3, 31, 9, 40)],               \n",
    "                 [3, 'c', datetime.datetime(2023, 3, 31, 9, 35)],\n",
    "                 [3, 'a', datetime.datetime(2023, 3, 31, 9, 50)],                 \n",
    "                 [3, 'b', datetime.datetime(2023, 3, 31, 9, 55)]])"
   ]
  },
  {
   "cell_type": "code",
   "execution_count": 48,
   "id": "6277182c",
   "metadata": {},
   "outputs": [
    {
     "name": "stdout",
     "output_type": "stream",
     "text": [
      "(array([[0., 2., 0., 1.],\n",
      "       [0., 0., 0., 1.],\n",
      "       [1., 2., 0., 1.],\n",
      "       [0., 1., 0., 0.]]), {'a': 'b', 'b': 'd', 'c': 'b', 'd': 'b'})\n"
     ]
    }
   ],
   "source": [
    "build_test = build_item_to_item_similarity(test)\n",
    "print(build_test)"
   ]
  },
  {
   "cell_type": "code",
   "execution_count": null,
   "id": "dc056646-f20e-4dc7-8e7b-3d413f501a7b",
   "metadata": {},
   "outputs": [],
   "source": []
  }
 ],
 "metadata": {
  "kernelspec": {
   "display_name": "Python 3 (ipykernel)",
   "language": "python",
   "name": "python3"
  },
  "language_info": {
   "codemirror_mode": {
    "name": "ipython",
    "version": 3
   },
   "file_extension": ".py",
   "mimetype": "text/x-python",
   "name": "python",
   "nbconvert_exporter": "python",
   "pygments_lexer": "ipython3",
   "version": "3.10.9"
  }
 },
 "nbformat": 4,
 "nbformat_minor": 5
}
